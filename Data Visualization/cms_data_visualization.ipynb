{
 "cells": [
  {
   "cell_type": "markdown",
   "metadata": {},
   "source": [
    "<div class=\"text-center\"><span><h1>CMS Data Visualization</h1></span><span><h4>Charlie Thiry - February 22, 2016</h4></span></div>"
   ]
  },
  {
   "cell_type": "markdown",
   "metadata": {},
   "source": [
    "### Import Dependencies: Numpy, Pandas, Bokeh"
   ]
  },
  {
   "cell_type": "code",
   "execution_count": 10,
   "metadata": {
    "collapsed": false
   },
   "outputs": [],
   "source": [
    "import numpy as np\n",
    "import pandas as pd\n",
    "from bokeh.models import HoverTool\n",
    "from bokeh.charts import Donut, show\n",
    "from bokeh.io import output_notebook"
   ]
  },
  {
   "cell_type": "markdown",
   "metadata": {},
   "source": [
    "### Data: Fiscal Year 2012 Medicaid Payments by Service Category"
   ]
  },
  {
   "cell_type": "code",
   "execution_count": 11,
   "metadata": {
    "collapsed": false,
    "scrolled": true
   },
   "outputs": [
    {
     "name": "stdout",
     "output_type": "stream",
     "text": [
      "CAPITATED CARE SERVICES                                         95909067464\n",
      "CLINIC SERVICES                                                 10433867525\n",
      "DENTAL SERVICES                                                  3332456869\n",
      "HOME HEALTH SERVICES                                             4093947728\n",
      "INTERMEDIATE CARE FACILITY SERVICES FOR INDIVIDUALS WITH INTELLECTUAL DISABILITIES*     9857845992\n",
      "INPATIENT HOSPITAL SERVICES                                     30047255480\n",
      "LAB AND X-RAY SERVICES                                           2091551087\n",
      "MENTAL HEALTH FACILITY SERVICES                                  2120078517\n",
      "NURSING FACILITY SERVICES                                       38360259036\n",
      "OTHER CARE SERVICES                                             32789365793\n",
      "OUTPATIENT HOSPITAL SERVICES                                     9408117995\n",
      "OTHER PRACTITIONER SERVICES                                      1562055276\n",
      "PRIMARY CARE CASE MANAGEMENT SERVICES                             389783987\n",
      "PRESCRIBED DRUGS SERVICES                                       17474876984\n",
      "PHYSICIAN SERVICES                                               8301617422\n",
      "PERSONAL SUPPORT SERVICES                                       22072137802\n",
      "STERILIZATION SERVICES                                             94016257\n",
      "SERVICES NOT IDENTIFIED                                           566310761\n",
      "Name: TOTAL, dtype: float64\n"
     ]
    }
   ],
   "source": [
    "medicaid_summary = pd.read_csv('./MSIS2012 Table17.csv', index_col=\"STATE\")\n",
    "medicaid_summary = medicaid_summary.T[1:-1] #Transpose, exclude total and empty row\n",
    "print medicaid_summary['TOTAL']"
   ]
  },
  {
   "cell_type": "markdown",
   "metadata": {},
   "source": [
    "### Initialize Objects"
   ]
  },
  {
   "cell_type": "code",
   "execution_count": 12,
   "metadata": {
    "collapsed": false
   },
   "outputs": [],
   "source": [
    "hover = HoverTool(\n",
    "        tooltips=\n",
    "        \"\"\"\n",
    "            <div>\n",
    "                <span style=\"font-size: 10px; font-weight: bold;\">@index</span>\n",
    "            </div>\n",
    "        \"\"\"\n",
    "    )"
   ]
  },
  {
   "cell_type": "code",
   "execution_count": 13,
   "metadata": {
    "collapsed": false,
    "scrolled": false
   },
   "outputs": [],
   "source": [
    "chart = Donut(medicaid_summary,\n",
    "            title=\"Medicaid Payments by Service Category\",\n",
    "            values='TOTAL',\n",
    "            text_font_size='0pt',\n",
    "            tools=[hover]\n",
    "           )"
   ]
  },
  {
   "cell_type": "code",
   "execution_count": 14,
   "metadata": {
    "collapsed": false
   },
   "outputs": [
    {
     "data": {
      "text/html": [
       "\n",
       "    <div class=\"bk-banner\">\n",
       "        <a href=\"http://bokeh.pydata.org\" target=\"_blank\" class=\"bk-logo bk-logo-small bk-logo-notebook\"></a>\n",
       "        <span id=\"c9b04f75-2586-4f60-9dc9-9ed29d3633f0\">Loading BokehJS ...</span>\n",
       "    </div>"
      ]
     },
     "metadata": {},
     "output_type": "display_data"
    },
    {
     "data": {
      "application/javascript": [
       "\n",
       "(function(global) {\n",
       "  function now() {\n",
       "    return new Date();\n",
       "  }\n",
       "\n",
       "  if (typeof (window._bokeh_onload_callbacks) === \"undefined\") {\n",
       "    window._bokeh_onload_callbacks = [];\n",
       "  }\n",
       "\n",
       "  function run_callbacks() {\n",
       "    window._bokeh_onload_callbacks.forEach(function(callback) { callback() });\n",
       "    delete window._bokeh_onload_callbacks\n",
       "    console.info(\"Bokeh: all callbacks have finished\");\n",
       "  }\n",
       "\n",
       "  function load_libs(js_urls, callback) {\n",
       "    window._bokeh_onload_callbacks.push(callback);\n",
       "    if (window._bokeh_is_loading > 0) {\n",
       "      console.log(\"Bokeh: BokehJS is being loaded, scheduling callback at\", now());\n",
       "      return null;\n",
       "    }\n",
       "    if (js_urls == null || js_urls.length === 0) {\n",
       "      run_callbacks();\n",
       "      return null;\n",
       "    }\n",
       "    console.log(\"Bokeh: BokehJS not loaded, scheduling load and callback at\", now());\n",
       "    window._bokeh_is_loading = js_urls.length;\n",
       "    for (var i = 0; i < js_urls.length; i++) {\n",
       "      var url = js_urls[i];\n",
       "      var s = document.createElement('script');\n",
       "      s.src = url;\n",
       "      s.async = false;\n",
       "      s.onreadystatechange = s.onload = function() {\n",
       "        window._bokeh_is_loading--;\n",
       "        if (window._bokeh_is_loading === 0) {\n",
       "          console.log(\"Bokeh: all BokehJS libraries loaded\");\n",
       "          run_callbacks()\n",
       "        }\n",
       "      };\n",
       "      s.onerror = function() {\n",
       "        console.warn(\"failed to load library \" + url);\n",
       "      };\n",
       "      console.log(\"Bokeh: injecting script tag for BokehJS library: \", url);\n",
       "      document.getElementsByTagName(\"head\")[0].appendChild(s);\n",
       "    }\n",
       "  };\n",
       "\n",
       "  var js_urls = ['https://cdn.pydata.org/bokeh/release/bokeh-0.11.1.min.js', 'https://cdn.pydata.org/bokeh/release/bokeh-widgets-0.11.1.min.js', 'https://cdn.pydata.org/bokeh/release/bokeh-compiler-0.11.1.min.js'];\n",
       "\n",
       "  var inline_js = [\n",
       "    function(Bokeh) {\n",
       "      Bokeh.set_log_level(\"info\");\n",
       "    },\n",
       "    \n",
       "    function(Bokeh) {\n",
       "      Bokeh.$(\"#c9b04f75-2586-4f60-9dc9-9ed29d3633f0\").text(\"BokehJS successfully loaded\");\n",
       "    },\n",
       "    function(Bokeh) {\n",
       "      console.log(\"Bokeh: injecting CSS: https://cdn.pydata.org/bokeh/release/bokeh-0.11.1.min.css\");\n",
       "      Bokeh.embed.inject_css(\"https://cdn.pydata.org/bokeh/release/bokeh-0.11.1.min.css\");\n",
       "      console.log(\"Bokeh: injecting CSS: https://cdn.pydata.org/bokeh/release/bokeh-widgets-0.11.1.min.css\");\n",
       "      Bokeh.embed.inject_css(\"https://cdn.pydata.org/bokeh/release/bokeh-widgets-0.11.1.min.css\");\n",
       "    }\n",
       "  ];\n",
       "\n",
       "  function run_inline_js() {\n",
       "    for (var i = 0; i < inline_js.length; i++) {\n",
       "      inline_js[i](window.Bokeh);\n",
       "    }\n",
       "  }\n",
       "\n",
       "  if (window._bokeh_is_loading === 0) {\n",
       "    console.log(\"Bokeh: BokehJS loaded, going straight to plotting\");\n",
       "    run_inline_js();\n",
       "  } else {\n",
       "    load_libs(js_urls, function() {\n",
       "      console.log(\"Bokeh: BokehJS plotting callback run at\", now());\n",
       "      run_inline_js();\n",
       "    });\n",
       "  }\n",
       "}(this));"
      ]
     },
     "metadata": {},
     "output_type": "display_data"
    }
   ],
   "source": [
    "output_notebook()"
   ]
  },
  {
   "cell_type": "markdown",
   "metadata": {},
   "source": [
    "### Display Data Visualization  (Hover for category name)"
   ]
  },
  {
   "cell_type": "code",
   "execution_count": 15,
   "metadata": {
    "collapsed": false,
    "scrolled": false
   },
   "outputs": [
    {
     "data": {
      "text/html": [
       "\n",
       "\n",
       "    <div class=\"plotdiv\" id=\"fae8e73b-b03b-4f3f-b60e-295862a2cffa\"></div>\n",
       "<script type=\"text/javascript\">\n",
       "  \n",
       "  (function(global) {\n",
       "    function now() {\n",
       "      return new Date();\n",
       "    }\n",
       "  \n",
       "    if (typeof (window._bokeh_onload_callbacks) === \"undefined\") {\n",
       "      window._bokeh_onload_callbacks = [];\n",
       "    }\n",
       "  \n",
       "    function run_callbacks() {\n",
       "      window._bokeh_onload_callbacks.forEach(function(callback) { callback() });\n",
       "      delete window._bokeh_onload_callbacks\n",
       "      console.info(\"Bokeh: all callbacks have finished\");\n",
       "    }\n",
       "  \n",
       "    function load_libs(js_urls, callback) {\n",
       "      window._bokeh_onload_callbacks.push(callback);\n",
       "      if (window._bokeh_is_loading > 0) {\n",
       "        console.log(\"Bokeh: BokehJS is being loaded, scheduling callback at\", now());\n",
       "        return null;\n",
       "      }\n",
       "      if (js_urls == null || js_urls.length === 0) {\n",
       "        run_callbacks();\n",
       "        return null;\n",
       "      }\n",
       "      console.log(\"Bokeh: BokehJS not loaded, scheduling load and callback at\", now());\n",
       "      window._bokeh_is_loading = js_urls.length;\n",
       "      for (var i = 0; i < js_urls.length; i++) {\n",
       "        var url = js_urls[i];\n",
       "        var s = document.createElement('script');\n",
       "        s.src = url;\n",
       "        s.async = false;\n",
       "        s.onreadystatechange = s.onload = function() {\n",
       "          window._bokeh_is_loading--;\n",
       "          if (window._bokeh_is_loading === 0) {\n",
       "            console.log(\"Bokeh: all BokehJS libraries loaded\");\n",
       "            run_callbacks()\n",
       "          }\n",
       "        };\n",
       "        s.onerror = function() {\n",
       "          console.warn(\"failed to load library \" + url);\n",
       "        };\n",
       "        console.log(\"Bokeh: injecting script tag for BokehJS library: \", url);\n",
       "        document.getElementsByTagName(\"head\")[0].appendChild(s);\n",
       "      }\n",
       "    };var element = document.getElementById(\"fae8e73b-b03b-4f3f-b60e-295862a2cffa\");\n",
       "    if (element == null) {\n",
       "      console.log(\"Bokeh: ERROR: autoload.js configured with elementid 'fae8e73b-b03b-4f3f-b60e-295862a2cffa' but no matching script tag was found. \")\n",
       "      return false;\n",
       "    }\n",
       "  \n",
       "    var js_urls = [];\n",
       "  \n",
       "    var inline_js = [\n",
       "      function(Bokeh) {\n",
       "        Bokeh.$(function() {\n",
       "            var docs_json = {\"ff4aed22-49d4-4f92-b5a0-a79d7c189d4c\":{\"roots\":{\"references\":[{\"attributes\":{\"axis_label\":null,\"formatter\":{\"id\":\"c809c320-52da-49a8-b36a-cd9b4634b923\",\"type\":\"BasicTickFormatter\"},\"plot\":{\"id\":\"89a0f6bc-64f6-4a49-83c0-657617b22284\",\"subtype\":\"Chart\",\"type\":\"Plot\"},\"ticker\":{\"id\":\"dbc01510-8bba-4d1e-b9aa-98ec7581d1b4\",\"type\":\"BasicTicker\"},\"visible\":false},\"id\":\"5f664173-d401-41fd-8081-d5d63fa77d0b\",\"type\":\"LinearAxis\"},{\"attributes\":{},\"id\":\"910ce951-752d-4b1e-8e20-e134dcb3f575\",\"type\":\"ToolEvents\"},{\"attributes\":{\"data_source\":{\"id\":\"1f91735a-c302-45fc-a94b-bf001bfe2832\",\"type\":\"ColumnDataSource\"},\"glyph\":{\"id\":\"585873b5-9426-4f32-bd63-17ff18519e01\",\"type\":\"Text\"},\"hover_glyph\":null,\"nonselection_glyph\":null,\"selection_glyph\":null},\"id\":\"e94cc514-0271-454c-bea0-017be0662daa\",\"type\":\"GlyphRenderer\"},{\"attributes\":{\"end_angle\":{\"field\":\"end\",\"units\":\"rad\"},\"fill_alpha\":{\"value\":0.8},\"fill_color\":{\"field\":\"color\"},\"inner_radius\":{\"field\":\"inners\",\"units\":\"data\"},\"line_color\":{\"value\":\"White\"},\"outer_radius\":{\"field\":\"outers\",\"units\":\"data\"},\"start_angle\":{\"field\":\"start\",\"units\":\"rad\"},\"x\":{\"value\":0},\"y\":{\"value\":0}},\"id\":\"1a674485-9154-4fc7-80a0-a778f71c0892\",\"type\":\"AnnularWedge\"},{\"attributes\":{\"below\":[{\"id\":\"fd941cba-bfa8-49ff-b7aa-79e084956de9\",\"type\":\"LinearAxis\"}],\"left\":[{\"id\":\"5f664173-d401-41fd-8081-d5d63fa77d0b\",\"type\":\"LinearAxis\"}],\"legend\":null,\"plot_height\":400,\"plot_width\":400,\"renderers\":[{\"id\":\"b56f2d9e-a221-4ea6-9f9f-310c34ac5b93\",\"type\":\"GlyphRenderer\"},{\"id\":\"e94cc514-0271-454c-bea0-017be0662daa\",\"type\":\"GlyphRenderer\"},{\"id\":\"fd941cba-bfa8-49ff-b7aa-79e084956de9\",\"type\":\"LinearAxis\"},{\"id\":\"5f664173-d401-41fd-8081-d5d63fa77d0b\",\"type\":\"LinearAxis\"}],\"title\":\"Medicaid Payments by Service Category\",\"title_text_font_size\":{\"value\":\"14pt\"},\"tool_events\":{\"id\":\"910ce951-752d-4b1e-8e20-e134dcb3f575\",\"type\":\"ToolEvents\"},\"tools\":[{\"id\":\"d166d348-72aa-42d6-a5d0-b760de21519e\",\"type\":\"HoverTool\"}],\"x_mapper_type\":\"auto\",\"x_range\":{\"id\":\"31fa7e2a-83cb-4c78-889b-27eb9247f801\",\"type\":\"Range1d\"},\"xgrid\":false,\"xscale\":\"auto\",\"y_mapper_type\":\"auto\",\"y_range\":{\"id\":\"f5b59872-6cc2-41aa-b12a-30320167d6ea\",\"type\":\"Range1d\"},\"ygrid\":false,\"yscale\":\"auto\"},\"id\":\"89a0f6bc-64f6-4a49-83c0-657617b22284\",\"subtype\":\"Chart\",\"type\":\"Plot\"},{\"attributes\":{},\"id\":\"dbc01510-8bba-4d1e-b9aa-98ec7581d1b4\",\"type\":\"BasicTicker\"},{\"attributes\":{\"data_source\":{\"id\":\"af668db7-777c-4fb9-9c5f-2e45e824149d\",\"type\":\"ColumnDataSource\"},\"glyph\":{\"id\":\"1a674485-9154-4fc7-80a0-a778f71c0892\",\"type\":\"AnnularWedge\"},\"hover_glyph\":null,\"nonselection_glyph\":null,\"selection_glyph\":null},\"id\":\"b56f2d9e-a221-4ea6-9f9f-310c34ac5b93\",\"type\":\"GlyphRenderer\"},{\"attributes\":{},\"id\":\"c809c320-52da-49a8-b36a-cd9b4634b923\",\"type\":\"BasicTickFormatter\"},{\"attributes\":{},\"id\":\"a75b8112-521e-48cc-b3e4-8985ea35e86d\",\"type\":\"BasicTicker\"},{\"attributes\":{\"callback\":null,\"column_names\":[\"y\",\"x\",\"text_angle\",\"text\"],\"data\":{\"text\":[\"CAPITATED CARE SERVICES\",\"CLINIC SERVICES\",\"DENTAL SERVICES\",\"HOME HEALTH SERVICES\",\"INPATIENT HOSPITAL SERVICES\",\"INTERMEDIATE CARE FACILITY SERVICES FOR INDIVIDUALS WITH INTELLECTUAL DISABILITIES*\",\"LAB AND X-RAY SERVICES\",\"MENTAL HEALTH FACILITY SERVICES\",\"NURSING FACILITY SERVICES\",\"OTHER CARE SERVICES\",\"OTHER PRACTITIONER SERVICES\",\"OUTPATIENT HOSPITAL SERVICES\",\"PERSONAL SUPPORT SERVICES\",\"PHYSICIAN SERVICES\",\"PRESCRIBED DRUGS SERVICES\",\"PRIMARY CARE CASE MANAGEMENT SERVICES\",\"SERVICES NOT IDENTIFIED\",\"STERILIZATION SERVICES\"],\"text_angle\":[0.0,0.0,0.0,0.0,0.0,0.0,0.0,0.0,0.0,0.0,0.0,0.0,0.0,0.0,0.0,0.0,0.0,0.0],\"x\":[0.5666528683447034,-0.6614442028768691,-0.7897643183401245,-0.8518205626927802,-1.060387211250411,-1.120099702340511,-1.097066074669312,-1.0845096292986436,-0.8536725042823787,-0.09865667163966738,0.31709552615198644,0.4432982919428459,0.7646574042386963,0.9909463746473154,1.0996089421052342,1.1248054122542013,1.1249621514772665,1.1249994120786948],\"y\":[0.9718690893308215,0.9100091024163348,0.8011849483588408,0.7348651093729757,0.37577115671186967,-0.10488878308331342,-0.24914057840839055,-0.2991051052030353,-0.7327129420395493,-1.1206658115339214,-1.0793865977000061,-1.033978541537761,-0.825181225030562,-0.5325882861773645,-0.2376660986388421,-0.020923301930059014,-0.009228095341937295,-0.0011501402485181345]}},\"id\":\"1f91735a-c302-45fc-a94b-bf001bfe2832\",\"type\":\"ColumnDataSource\"},{\"attributes\":{\"callback\":null,\"column_names\":[\"index\",\"end\",\"inners\",\"level\",\"color\",\"start\",\"values\",\"outers\",\"centers\"],\"data\":{\"centers\":[1.125,1.125,1.125,1.125,1.125,1.125,1.125,1.125,1.125,1.125,1.125,1.125,1.125,1.125,1.125,1.125,1.125,1.125],\"color\":[\"#f22c40\",\"#5ab738\",\"#407ee7\",\"#df5320\",\"#00ad9c\",\"#c33ff3\",\"#f22c40\",\"#5ab738\",\"#407ee7\",\"#df5320\",\"#00ad9c\",\"#c33ff3\",\"#f22c40\",\"#5ab738\",\"#407ee7\",\"#df5320\",\"#00ad9c\",\"#c33ff3\"],\"end\":[2.085859548573932,2.3127784706429617,2.3852537554539994,2.4742901749042945,3.1277670192592204,3.342158449959999,3.3876461386791776,3.433754250616256,4.268024822854317,4.981137915698063,5.015109968591475,5.219720578128962,5.699752139368179,5.880298238148527,6.260347173885631,6.268824314500832,6.28114061304826,6.283185307179586],\"index\":[\"CAPITATED CARE SERVICES\",\"CLINIC SERVICES\",\"DENTAL SERVICES\",\"HOME HEALTH SERVICES\",\"INPATIENT HOSPITAL SERVICES\",\"INTERMEDIATE CARE FACILITY SERVICES FOR INDIVIDUALS WITH INTELLECTUAL DISABILITIES*\",\"LAB AND X-RAY SERVICES\",\"MENTAL HEALTH FACILITY SERVICES\",\"NURSING FACILITY SERVICES\",\"OTHER CARE SERVICES\",\"OTHER PRACTITIONER SERVICES\",\"OUTPATIENT HOSPITAL SERVICES\",\"PERSONAL SUPPORT SERVICES\",\"PHYSICIAN SERVICES\",\"PRESCRIBED DRUGS SERVICES\",\"PRIMARY CARE CASE MANAGEMENT SERVICES\",\"SERVICES NOT IDENTIFIED\",\"STERILIZATION SERVICES\"],\"inners\":[0.0,0.0,0.0,0.0,0.0,0.0,0.0,0.0,0.0,0.0,0.0,0.0,0.0,0.0,0.0,0.0,0.0,0.0],\"level\":[0.0,0.0,0.0,0.0,0.0,0.0,0.0,0.0,0.0,0.0,0.0,0.0,0.0,0.0,0.0,0.0,0.0,0.0],\"outers\":[1.5,1.5,1.5,1.5,1.5,1.5,1.5,1.5,1.5,1.5,1.5,1.5,1.5,1.5,1.5,1.5,1.5,1.5],\"start\":[0.0,2.085859548573932,2.3127784706429617,2.3852537554539994,2.4742901749042945,3.1277670192592204,3.342158449959999,3.3876461386791776,3.433754250616256,4.268024822854317,4.981137915698063,5.015109968591475,5.219720578128962,5.699752139368179,5.880298238148527,6.260347173885631,6.268824314500832,6.28114061304826],\"values\":[95909067464.0,10433867525.0,3332456869.0,4093947728.0,30047255480.0,9857845992.0,2091551087.0,2120078517.0,38360259036.0,32789365793.0,1562055276.0,9408117995.0,22072137802.0,8301617422.0,17474876984.0,389783987.0,566310761.0,94016257.0]}},\"id\":\"af668db7-777c-4fb9-9c5f-2e45e824149d\",\"type\":\"ColumnDataSource\"},{\"attributes\":{\"axis_label\":null,\"formatter\":{\"id\":\"9d532568-81e1-48db-b5ae-031f5a0794a9\",\"type\":\"BasicTickFormatter\"},\"plot\":{\"id\":\"89a0f6bc-64f6-4a49-83c0-657617b22284\",\"subtype\":\"Chart\",\"type\":\"Plot\"},\"ticker\":{\"id\":\"a75b8112-521e-48cc-b3e4-8985ea35e86d\",\"type\":\"BasicTicker\"},\"visible\":false},\"id\":\"fd941cba-bfa8-49ff-b7aa-79e084956de9\",\"type\":\"LinearAxis\"},{\"attributes\":{\"callback\":null,\"end\":1.6500000000000001,\"start\":-1.6500000000000001},\"id\":\"31fa7e2a-83cb-4c78-889b-27eb9247f801\",\"type\":\"Range1d\"},{\"attributes\":{},\"id\":\"9d532568-81e1-48db-b5ae-031f5a0794a9\",\"type\":\"BasicTickFormatter\"},{\"attributes\":{\"callback\":null,\"plot\":{\"id\":\"89a0f6bc-64f6-4a49-83c0-657617b22284\",\"subtype\":\"Chart\",\"type\":\"Plot\"},\"tooltips\":\"\\n            <div>\\n                <span style=\\\"font-size: 10px; font-weight: bold;\\\">@index</span>\\n            </div>\\n        \"},\"id\":\"d166d348-72aa-42d6-a5d0-b760de21519e\",\"type\":\"HoverTool\"},{\"attributes\":{\"callback\":null,\"end\":1.6500000000000001,\"start\":-1.6500000000000001},\"id\":\"f5b59872-6cc2-41aa-b12a-30320167d6ea\",\"type\":\"Range1d\"},{\"attributes\":{\"angle\":{\"field\":\"text_angle\",\"units\":\"rad\"},\"text_align\":\"center\",\"text_baseline\":\"middle\",\"text_font_size\":{\"value\":\"0pt\"},\"x\":{\"field\":\"x\"},\"y\":{\"field\":\"y\"}},\"id\":\"585873b5-9426-4f32-bd63-17ff18519e01\",\"type\":\"Text\"}],\"root_ids\":[\"89a0f6bc-64f6-4a49-83c0-657617b22284\"]},\"title\":\"Bokeh Application\",\"version\":\"0.11.1\"}};\n",
       "            var render_items = [{\"docid\":\"ff4aed22-49d4-4f92-b5a0-a79d7c189d4c\",\"elementid\":\"fae8e73b-b03b-4f3f-b60e-295862a2cffa\",\"modelid\":\"89a0f6bc-64f6-4a49-83c0-657617b22284\",\"notebook_comms_target\":\"4e9ba295-cb33-4bd8-9433-e635af74a1b7\"}];\n",
       "            \n",
       "            Bokeh.embed.embed_items(docs_json, render_items);\n",
       "        });\n",
       "      },\n",
       "      function(Bokeh) {\n",
       "      }\n",
       "    ];\n",
       "  \n",
       "    function run_inline_js() {\n",
       "      for (var i = 0; i < inline_js.length; i++) {\n",
       "        inline_js[i](window.Bokeh);\n",
       "      }\n",
       "    }\n",
       "  \n",
       "    if (window._bokeh_is_loading === 0) {\n",
       "      console.log(\"Bokeh: BokehJS loaded, going straight to plotting\");\n",
       "      run_inline_js();\n",
       "    } else {\n",
       "      load_libs(js_urls, function() {\n",
       "        console.log(\"Bokeh: BokehJS plotting callback run at\", now());\n",
       "        run_inline_js();\n",
       "      });\n",
       "    }\n",
       "  }(this));\n",
       "</script>"
      ]
     },
     "metadata": {},
     "output_type": "display_data"
    },
    {
     "data": {
      "text/html": [
       "<p><code>&lt;Bokeh Notebook handle for <strong>In[15]</strong>&gt;</code></p>"
      ],
      "text/plain": [
       "<bokeh.io._CommsHandle at 0x5b88eb0>"
      ]
     },
     "execution_count": 15,
     "metadata": {},
     "output_type": "execute_result"
    }
   ],
   "source": [
    "show(chart)"
   ]
  }
 ],
 "metadata": {
  "kernelspec": {
   "display_name": "Python 2",
   "language": "python",
   "name": "python2"
  },
  "language_info": {
   "codemirror_mode": {
    "name": "ipython",
    "version": 2
   },
   "file_extension": ".py",
   "mimetype": "text/x-python",
   "name": "python",
   "nbconvert_exporter": "python",
   "pygments_lexer": "ipython2",
   "version": "2.7.6"
  }
 },
 "nbformat": 4,
 "nbformat_minor": 0
}
