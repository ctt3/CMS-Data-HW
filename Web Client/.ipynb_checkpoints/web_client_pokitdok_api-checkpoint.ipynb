{
 "cells": [
  {
   "cell_type": "markdown",
   "metadata": {},
   "source": [
    "<div class=\"text-center\"><span><h1>Simple Eligibility Request</h1></span><span><h4>Charlie Thiry - February 22, 2016</h4></span></div>"
   ]
  },
  {
   "cell_type": "markdown",
   "metadata": {},
   "source": [
    "### Import PokItDok"
   ]
  },
  {
   "cell_type": "code",
   "execution_count": 4,
   "metadata": {
    "collapsed": true
   },
   "outputs": [],
   "source": [
    "import pokitdok"
   ]
  },
  {
   "cell_type": "markdown",
   "metadata": {},
   "source": [
    "### Connect to API"
   ]
  },
  {
   "cell_type": "code",
   "execution_count": 5,
   "metadata": {
    "collapsed": false
   },
   "outputs": [],
   "source": [
    "pd = pokitdok.api.connect('E8zKmnqqOyp7adXyqMBh', 'h4F3Fbigiudk2nDvaRW4nN5JMCUdxaggMJkmeF7m')"
   ]
  },
  {
   "cell_type": "markdown",
   "metadata": {},
   "source": [
    "### Submit Eligibility Request"
   ]
  },
  {
   "cell_type": "code",
   "execution_count": 6,
   "metadata": {
    "collapsed": false
   },
   "outputs": [],
   "source": [
    "response = pd.eligibility({\n",
    "    \"member\": {\n",
    "        \"birth_date\": \"1970-01-01\",\n",
    "        \"first_name\": \"Jane\",\n",
    "        \"last_name\": \"Doe\",\n",
    "        \"id\": \"W000000000\"\n",
    "    },\n",
    "    \"trading_partner_id\": \"MOCKPAYER\"\n",
    "})"
   ]
  },
  {
   "cell_type": "markdown",
   "metadata": {},
   "source": [
    "### Define Helper Methods"
   ]
  },
  {
   "cell_type": "code",
   "execution_count": 7,
   "metadata": {
    "collapsed": false
   },
   "outputs": [],
   "source": [
    "def filter_for_service(service_type, response):\n",
    "  return filter(\n",
    "    (lambda x: 'service_types' in x.keys() and service_type in x['service_types']),\n",
    "    response\n",
    "    )"
   ]
  },
  {
   "cell_type": "markdown",
   "metadata": {},
   "source": [
    "### Display Copay"
   ]
  },
  {
   "cell_type": "code",
   "execution_count": 8,
   "metadata": {
    "collapsed": false
   },
   "outputs": [
    {
     "name": "stdout",
     "output_type": "stream",
     "text": [
      "{u'service_type_codes': [u'98'], u'service_types': [u'professional_physician_visit_office'], u'copayment': {u'currency': u'USD', u'amount': u'0'}, u'messages': [{u'message': u'PRIMARY OFFICE'}], u'in_plan_network': u'yes', u'coverage_level': u'employee_and_spouse'}\n",
      "{u'service_type_codes': [u'98'], u'service_types': [u'professional_physician_visit_office'], u'copayment': {u'currency': u'USD', u'amount': u'0'}, u'messages': [{u'message': u'GYN OFFICE VS'}, {u'message': u'GYN VISIT'}, {u'message': u'SPEC OFFICE'}, {u'message': u'SPEC VISIT'}, {u'message': u'PRIME CARE VST'}], u'in_plan_network': u'not_applicable', u'coverage_level': u'employee_and_spouse'}\n"
     ]
    }
   ],
   "source": [
    "copays = filter_for_service('professional_physician_visit_office', response['data']['coverage']['copay'])\n",
    "for copay in copays: print copay"
   ]
  },
  {
   "cell_type": "markdown",
   "metadata": {},
   "source": [
    "### Display Deductibles"
   ]
  },
  {
   "cell_type": "code",
   "execution_count": 9,
   "metadata": {
    "collapsed": false
   },
   "outputs": [
    {
     "data": {
      "text/plain": [
       "{u'family': {u'in_network': {u'applied': {u'amount': u'43.91',\n",
       "    u'currency': u'USD'},\n",
       "   u'limit': {u'amount': u'6000', u'currency': u'USD'},\n",
       "   u'remaining': {u'amount': u'5956.09', u'currency': u'USD'}},\n",
       "  u'out_of_network': {u'applied': {u'amount': u'43.91', u'currency': u'USD'},\n",
       "   u'limit': {u'amount': u'12000', u'currency': u'USD'},\n",
       "   u'remaining': {u'amount': u'11956.09', u'currency': u'USD'}}},\n",
       " u'individual': {u'in_network': {u'applied': {u'amount': u'16.43',\n",
       "    u'currency': u'USD'},\n",
       "   u'limit': {u'amount': u'3000', u'currency': u'USD'},\n",
       "   u'remaining': {u'amount': u'2983.57', u'currency': u'USD'}},\n",
       "  u'out_of_network': {u'applied': {u'amount': u'16.43', u'currency': u'USD'},\n",
       "   u'limit': {u'amount': u'6000', u'currency': u'USD'},\n",
       "   u'remaining': {u'amount': u'5983.57', u'currency': u'USD'}}}}"
      ]
     },
     "execution_count": 9,
     "metadata": {},
     "output_type": "execute_result"
    }
   ],
   "source": [
    "response['data']['summary']['deductible']"
   ]
  }
 ],
 "metadata": {
  "kernelspec": {
   "display_name": "Python 2",
   "language": "python",
   "name": "python2"
  },
  "language_info": {
   "codemirror_mode": {
    "name": "ipython",
    "version": 2
   },
   "file_extension": ".py",
   "mimetype": "text/x-python",
   "name": "python",
   "nbconvert_exporter": "python",
   "pygments_lexer": "ipython2",
   "version": "2.7.6"
  }
 },
 "nbformat": 4,
 "nbformat_minor": 0
}
